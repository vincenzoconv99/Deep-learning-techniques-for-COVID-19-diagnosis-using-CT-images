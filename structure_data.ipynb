{
 "cells": [
  {
   "cell_type": "code",
   "execution_count": null,
   "id": "accessory-prince",
   "metadata": {},
   "outputs": [],
   "source": [
    "import json\n",
    "\n",
    "def get_value_in_range(value):\n",
    "    trend_val = value.split('&#')\n",
    "    if len(trend_val) == 1:\n",
    "        return trend_val[0], 0\n",
    "    else:\n",
    "        if trend_val[1] == '8593;':\n",
    "            return trend_val[0], 1\n",
    "        elif trend_val[1] == '8595;':\n",
    "            return trend_val[0], -1\n",
    "        else:\n",
    "            return trend_val[0], None\n",
    "\n",
    "dict_patients = {}\n",
    "key_overview = ['Hospital', 'Age', 'Gender', 'Body temperature', \n",
    "                'Underlying diseases', 'SARS-CoV-2 nucleic acids', \n",
    "                'Computed tomography (CT)', 'Morbidity outcome', 'Mortality outcome']\n",
    "key_cl = ['Clinical feature', 'Abbreviation', 'Value', 'Normal range', 'Value in range'] # Value in range: 0 in range, 1 up, -1 down\n",
    "\n",
    "with open('patient.txt', encoding=\"utf8\") as f:\n",
    "    for line in f:\n",
    "        patient_id = line.split('\\t')[0]\n",
    "        dict_patients[patient_id] = {}\n",
    "        text = line.split('\\t')[9]\n",
    "        if text.find(\"&basic_info&\")>-1:\n",
    "            new_item = text.split(\"&basic_info&\")[1]\n",
    "            dict_patients[patient_id]['basic_info'] = dict(zip(key_overview, \n",
    "                                                               [s.strip() for s in new_item.split('$')]))\n",
    "        if text.find(\"&ct&\")>-1:\n",
    "            new_item = text.split(\"&ct&\")[1]\n",
    "            dict_patients[patient_id]['ct'] = [s.strip() for s in new_item.split('@')]\n",
    "\n",
    "        if text.find(\"&cf&\")>-1:\n",
    "            new_item = text.split(\"&cf&\")[1]\n",
    "            clinical_features = [s.strip() for s in new_item.split('$#$')[2:]]\n",
    "            dict_patients[patient_id]['cf'] = {}\n",
    "            for cf in clinical_features:\n",
    "                cf_row = cf.split('$')\n",
    "                cf_id = cf_row[0].strip()\n",
    "                l_values = []\n",
    "                for val in cf.split('$')[2:]:\n",
    "                    val_split = [s.strip() for s in val.split('@')]\n",
    "                    if len(val_split)>2:\n",
    "                        val_split[2], in_range = get_value_in_range(val_split[2])\n",
    "                        val_split += [in_range]\n",
    "                        l_values.append(dict(zip(key_cl, val_split)))\n",
    "                dict_patients[patient_id]['cf'][cf_id] = l_values\n",
    "        if text.find(\"&cp&\")>-1:\n",
    "            # Actually not found &cp& \n",
    "            new_item = text.split(\"&cp&\")[1]\n",
    "            dict_patients[patient_id]['cp'] = [s.strip() for s in new_item]\n",
    "            \n",
    "with open('patient.json', 'w') as fp:\n",
    "    json.dump(dict_patients, fp,  indent=4)"
   ]
  }
 ],
 "metadata": {
  "kernelspec": {
   "display_name": "Python 3",
   "language": "python",
   "name": "python3"
  },
  "language_info": {
   "codemirror_mode": {
    "name": "ipython",
    "version": 3
   },
   "file_extension": ".py",
   "mimetype": "text/x-python",
   "name": "python",
   "nbconvert_exporter": "python",
   "pygments_lexer": "ipython3",
   "version": "3.8.8"
  }
 },
 "nbformat": 4,
 "nbformat_minor": 5
}
