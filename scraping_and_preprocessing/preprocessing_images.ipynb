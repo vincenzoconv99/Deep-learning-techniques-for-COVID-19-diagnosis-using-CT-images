{
 "cells": [
  {
   "cell_type": "code",
   "execution_count": 1,
   "metadata": {},
   "outputs": [],
   "source": [
    "import os\n",
    "import cv2 \n",
    "import numpy as np\n",
    "import pandas as pd\n",
    "import skimage\n",
    "from skimage import measure\n",
    "from collections import Counter\n",
    "import matplotlib.pyplot as plt"
   ]
  },
  {
   "cell_type": "code",
   "execution_count": 2,
   "metadata": {},
   "outputs": [],
   "source": [
    "def crop(target):\n",
    "    img=cv2.imread(target, cv2.IMREAD_GRAYSCALE).astype(np.uint8)\n",
    "\n",
    "    thr, img_thr= cv2.threshold(img, 0, 255, cv2.THRESH_BINARY+cv2.THRESH_OTSU)\n",
    "    img_test=measure.label(img_thr, connectivity = 1) # We get binary regions of the image\n",
    "    props = measure.regionprops(img_test) \n",
    "    areas=[prop.area for prop in props] #We get the area for each region\n",
    "    ind_max_area=np.argmax(areas)+1 #We select the maximum area region (body)\n",
    "\n",
    "    boxes = [prop.bbox for prop in props]\n",
    "    box = boxes[ind_max_area-1]\n",
    "    img_new = img[box[0]:box[2], box[1]:box[3]]\n",
    "    img_new= cv2.resize(img_new, (512,512))\n",
    "    return img_new\n",
    "\n",
    "def split_target_dir_and_crop(target_dir,output_dir):\n",
    "    target_list=[target_dir+os.sep+file for file in os.listdir(target_dir)]\n",
    "    for target in target_list:\n",
    "        img_new= crop(target)     \n",
    "        dst=target.replace(target_dir,output_dir)\n",
    "        dst_dir=os.path.split(dst)[0]\n",
    "        if not os.path.exists(dst_dir):\n",
    "            os.makedirs(dst_dir)\n",
    "        cv2.imencode('.jpg', img_new)[1].tofile(dst)\n",
    "    print(f'Target list done with {len(target_list)} items')"
   ]
  },
  {
   "cell_type": "code",
   "execution_count": null,
   "metadata": {},
   "outputs": [],
   "source": [
    "#Cropping and segmentation of patient's images\n",
    "\n",
    "lista_percorsi = os.listdir('./CT/')\n",
    "\n",
    "for i,path in enumerate(lista_percorsi):\n",
    "    if path.find('Patient') >= 0:\n",
    "        cartella2=os.listdir('CT/'+path+'/')[0]\n",
    "        source = 'CT/'+path+'/'+cartella2+'/'+os.listdir('CT/'+path+'/'+cartella2+'/')[0]\n",
    "        path=path.replace(' ','_')\n",
    "        dst = 'CT_segmentate3/'+path+'/'\n",
    "        split_target_dir_and_crop(source, dst)"
   ]
  },
  {
   "cell_type": "code",
   "execution_count": null,
   "metadata": {},
   "outputs": [],
   "source": [
    "#Cropping and segmentation of nCT, pCT, NiCT images\n",
    "\n",
    "source = './nCT_pCT_NiCT/nCT_pCT_NiCT/nCT/'\n",
    "dst = './nCT_pCT_NiCT_segmented/nCT_pCT_NiCT/nCT/'\n",
    "split_target_dir_and_crop(source, dst)\n",
    "source = './nCT_pCT_NiCT_segmentedz/nCT_pCT_NiCT/pCT/'\n",
    "dst = './nCT_pCT_NiCT_segmented/nCT_pCT_NiCT/pCT/'\n",
    "split_target_dir_and_crop(source, dst)\n",
    "source = './nCT_pCT_NiCT/nCT_pCT_NiCT/NiCT/'\n",
    "dst = './nCT_pCT_NiCT_segmented/nCT_pCT_NiCT5/NiCT/'\n",
    "split_target_dir_and_crop(source, dst)"
   ]
  }
 ],
 "metadata": {
  "kernelspec": {
   "display_name": "Python 3",
   "language": "python",
   "name": "python3"
  },
  "language_info": {
   "codemirror_mode": {
    "name": "ipython",
    "version": 3
   },
   "file_extension": ".py",
   "mimetype": "text/x-python",
   "name": "python",
   "nbconvert_exporter": "python",
   "pygments_lexer": "ipython3",
   "version": "3.8.3"
  }
 },
 "nbformat": 4,
 "nbformat_minor": 4
}
